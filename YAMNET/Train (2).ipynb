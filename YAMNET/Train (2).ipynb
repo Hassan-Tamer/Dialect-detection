{
  "cells": [
    {
      "cell_type": "code",
      "execution_count": 1,
      "metadata": {
        "id": "tgmmi8uOdXcz"
      },
      "outputs": [],
      "source": [
        "import tensorflow as tf\n",
        "import pickle\n",
        "import seaborn as sns\n",
        "import matplotlib.pyplot as plt\n",
        "import numpy as np"
      ]
    },
    {
      "cell_type": "code",
      "source": [
        "from google.colab import drive\n",
        "drive.mount('/content/drive')"
      ],
      "metadata": {
        "colab": {
          "base_uri": "https://localhost:8080/"
        },
        "id": "ig60a72kdbC2",
        "outputId": "7fa9b438-0399-4d4e-a73f-3112d0660573"
      },
      "execution_count": 2,
      "outputs": [
        {
          "output_type": "stream",
          "name": "stdout",
          "text": [
            "Drive already mounted at /content/drive; to attempt to forcibly remount, call drive.mount(\"/content/drive\", force_remount=True).\n"
          ]
        }
      ]
    },
    {
      "cell_type": "code",
      "execution_count": 3,
      "metadata": {
        "id": "VNGmSk-MdXc1"
      },
      "outputs": [],
      "source": [
        "path = \"/content/drive/MyDrive/DL/YAMNET/DatasetV2/\"\n",
        "with open(path + 'X.pkl', 'rb') as f:\n",
        "    loaded_array = pickle.load(f)\n",
        "\n",
        "X = loaded_array\n",
        "\n",
        "with open(path + 'y.pkl', 'rb') as f:\n",
        "    loaded_array = pickle.load(f)\n",
        "\n",
        "y = loaded_array"
      ]
    },
    {
      "cell_type": "code",
      "execution_count": 4,
      "metadata": {
        "colab": {
          "base_uri": "https://localhost:8080/"
        },
        "id": "RTi5ZJdndXc1",
        "outputId": "8c492862-ad2e-4c0b-9bf4-71c465629adb"
      },
      "outputs": [
        {
          "output_type": "execute_result",
          "data": {
            "text/plain": [
              "TensorShape([124, 1024])"
            ]
          },
          "metadata": {},
          "execution_count": 4
        }
      ],
      "source": [
        "X[0].shape"
      ]
    },
    {
      "cell_type": "code",
      "execution_count": 5,
      "metadata": {
        "colab": {
          "base_uri": "https://localhost:8080/"
        },
        "id": "wmEOAKaQdXc2",
        "outputId": "ff146c80-e3df-4afe-9cc9-4097095d9f2d"
      },
      "outputs": [
        {
          "output_type": "stream",
          "name": "stdout",
          "text": [
            "len(X): 2272\n",
            "len(y): 2272\n"
          ]
        }
      ],
      "source": [
        "print(\"len(X):\", len(X))\n",
        "print(\"len(y):\", len(y))"
      ]
    },
    {
      "cell_type": "code",
      "execution_count": 6,
      "metadata": {
        "id": "2ry1SzdKdXc2"
      },
      "outputs": [],
      "source": [
        "num_classes = 5\n",
        "y = tf.keras.utils.to_categorical(y, num_classes)"
      ]
    },
    {
      "cell_type": "code",
      "execution_count": 7,
      "metadata": {
        "colab": {
          "base_uri": "https://localhost:8080/"
        },
        "id": "rlassHDJdXc2",
        "outputId": "5d6f4094-0e1a-416b-8feb-53d9454ec352"
      },
      "outputs": [
        {
          "output_type": "execute_result",
          "data": {
            "text/plain": [
              "array([0., 0., 0., 0., 1.], dtype=float32)"
            ]
          },
          "metadata": {},
          "execution_count": 7
        }
      ],
      "source": [
        "y[2000]"
      ]
    },
    {
      "cell_type": "code",
      "execution_count": 8,
      "metadata": {
        "id": "jDprniezdXc2"
      },
      "outputs": [],
      "source": [
        "from sklearn.model_selection import train_test_split\n",
        "\n",
        "X_train, X_test, y_train, y_test = train_test_split(X, y, test_size=0.2, random_state=42)"
      ]
    },
    {
      "cell_type": "code",
      "execution_count": 9,
      "metadata": {
        "colab": {
          "base_uri": "https://localhost:8080/"
        },
        "id": "yVTmXMVOdXc2",
        "outputId": "13febcd6-b864-4327-f21d-1d63c77873c5"
      },
      "outputs": [
        {
          "output_type": "stream",
          "name": "stdout",
          "text": [
            "len(X_train): 1817\n",
            "len(X_test): 455\n",
            "len(y_train): 1817\n",
            "len(y_test): 455\n"
          ]
        }
      ],
      "source": [
        "print(\"len(X_train):\", len(X_train))\n",
        "print(\"len(X_test):\", len(X_test))\n",
        "print(\"len(y_train):\", len(y_train))\n",
        "print(\"len(y_test):\", len(y_test))"
      ]
    },
    {
      "cell_type": "code",
      "execution_count": 10,
      "metadata": {
        "id": "fas33BqCdXc2"
      },
      "outputs": [],
      "source": [
        "X_train = np.array(X_train)\n",
        "X_test = np.array(X_test)\n",
        "y_train = np.array(y_train)\n",
        "y_test = np.array(y_test)"
      ]
    },
    {
      "cell_type": "code",
      "execution_count": 11,
      "metadata": {
        "colab": {
          "base_uri": "https://localhost:8080/"
        },
        "id": "RKdpL70BdXc3",
        "outputId": "163369a5-aeef-439b-cdce-a1668cfe0078"
      },
      "outputs": [
        {
          "output_type": "stream",
          "name": "stdout",
          "text": [
            "Model: \"yamnet_model\"\n",
            "_________________________________________________________________\n",
            " Layer (type)                Output Shape              Param #   \n",
            "=================================================================\n",
            " flatten (Flatten)           (None, 126976)            0         \n",
            "                                                                 \n",
            " dense (Dense)               (None, 1024)              130024448 \n",
            "                                                                 \n",
            " batch_normalization (Batch  (None, 1024)              4096      \n",
            " Normalization)                                                  \n",
            "                                                                 \n",
            " elu (ELU)                   (None, 1024)              0         \n",
            "                                                                 \n",
            " dropout (Dropout)           (None, 1024)              0         \n",
            "                                                                 \n",
            " dense_1 (Dense)             (None, 512)               524800    \n",
            "                                                                 \n",
            " batch_normalization_1 (Bat  (None, 512)               2048      \n",
            " chNormalization)                                                \n",
            "                                                                 \n",
            " elu_1 (ELU)                 (None, 512)               0         \n",
            "                                                                 \n",
            " dropout_1 (Dropout)         (None, 512)               0         \n",
            "                                                                 \n",
            " dense_2 (Dense)             (None, 256)               131328    \n",
            "                                                                 \n",
            " batch_normalization_2 (Bat  (None, 256)               1024      \n",
            " chNormalization)                                                \n",
            "                                                                 \n",
            " elu_2 (ELU)                 (None, 256)               0         \n",
            "                                                                 \n",
            " dropout_2 (Dropout)         (None, 256)               0         \n",
            "                                                                 \n",
            " dense_3 (Dense)             (None, 128)               32896     \n",
            "                                                                 \n",
            " batch_normalization_3 (Bat  (None, 128)               512       \n",
            " chNormalization)                                                \n",
            "                                                                 \n",
            " elu_3 (ELU)                 (None, 128)               0         \n",
            "                                                                 \n",
            " dropout_3 (Dropout)         (None, 128)               0         \n",
            "                                                                 \n",
            " dense_4 (Dense)             (None, 5)                 645       \n",
            "                                                                 \n",
            "=================================================================\n",
            "Total params: 130721797 (498.66 MB)\n",
            "Trainable params: 130717957 (498.65 MB)\n",
            "Non-trainable params: 3840 (15.00 KB)\n",
            "_________________________________________________________________\n"
          ]
        }
      ],
      "source": [
        "import tensorflow as tf\n",
        "from tensorflow.keras import regularizers, layers, models\n",
        "\n",
        "\n",
        "\n",
        "model = models.Sequential([\n",
        "    layers.Input(shape=(124, 1024), dtype=tf.float32, name='input_embedding'),\n",
        "    layers.Flatten(),\n",
        "    layers.Dense(1024, kernel_regularizer=regularizers.l2(0.003)),\n",
        "    layers.BatchNormalization(),\n",
        "    layers.ELU(),\n",
        "    layers.Dropout(0.5),\n",
        "    layers.Dense(512, kernel_regularizer=regularizers.l2(0.003)),\n",
        "    layers.BatchNormalization(),\n",
        "    layers.ELU(),\n",
        "    layers.Dropout(0.5),\n",
        "    layers.Dense(256, kernel_regularizer=regularizers.l2(0.003)),\n",
        "    layers.BatchNormalization(),\n",
        "    layers.ELU(),\n",
        "    layers.Dropout(0.5),\n",
        "    layers.Dense(128, kernel_regularizer=regularizers.l2(0.003)),\n",
        "    layers.BatchNormalization(),\n",
        "    layers.ELU(),\n",
        "    layers.Dropout(0.5),\n",
        "    layers.Dense(5, activation='softmax')\n",
        "], name='yamnet_model')\n",
        "\n",
        "\n",
        "# learning_rate = 0.001\n",
        "# lr_schedule = tf.keras.optimizers.schedules.ExponentialDecay(\n",
        "#     initial_learning_rate=0.001,\n",
        "#     decay_steps=1000,\n",
        "#     decay_rate=0.96,\n",
        "#     staircase=True)\n",
        "\n",
        "# optimizer = tf.keras.optimizers.Adam(learning_rate=lr_schedule)\n",
        "\n",
        "\n",
        "# Compile the model\n",
        "optimizer = tf.keras.optimizers.Adam(learning_rate=0.00005)\n",
        "\n",
        "METRICS = [\n",
        "    'accuracy',\n",
        "    tf.keras.metrics.Precision(name='precision'),\n",
        "    tf.keras.metrics.Recall(name='recall')\n",
        "]\n",
        "\n",
        "model.compile(\n",
        "              optimizer=optimizer,\n",
        "              loss='categorical_crossentropy',\n",
        "              metrics=METRICS)\n",
        "\n",
        "\n",
        "model.summary()"
      ]
    },
    {
      "cell_type": "code",
      "execution_count": 12,
      "metadata": {
        "colab": {
          "base_uri": "https://localhost:8080/"
        },
        "id": "plTNptZgdXc3",
        "outputId": "34b4384a-62de-40a9-936d-84894c03191a"
      },
      "outputs": [
        {
          "output_type": "stream",
          "name": "stdout",
          "text": [
            "Epoch 1/30\n",
            "29/29 [==============================] - 12s 192ms/step - loss: 11.4216 - accuracy: 0.3330 - precision: 0.3685 - recall: 0.2251 - val_loss: 11.3774 - val_accuracy: 0.3714 - val_precision: 0.4107 - val_recall: 0.3385\n",
            "Epoch 2/30\n",
            "29/29 [==============================] - 3s 106ms/step - loss: 10.8288 - accuracy: 0.4876 - precision: 0.5535 - recall: 0.3759 - val_loss: 10.7165 - val_accuracy: 0.5121 - val_precision: 0.5628 - val_recall: 0.4527\n",
            "Epoch 3/30\n",
            "29/29 [==============================] - 3s 99ms/step - loss: 10.4744 - accuracy: 0.5729 - precision: 0.6545 - recall: 0.4722 - val_loss: 10.3648 - val_accuracy: 0.5912 - val_precision: 0.6223 - val_recall: 0.5143\n",
            "Epoch 4/30\n",
            "29/29 [==============================] - 3s 97ms/step - loss: 10.2171 - accuracy: 0.6318 - precision: 0.6989 - recall: 0.5289 - val_loss: 10.0970 - val_accuracy: 0.6615 - val_precision: 0.7026 - val_recall: 0.6022\n",
            "Epoch 5/30\n",
            "29/29 [==============================] - 3s 100ms/step - loss: 9.9133 - accuracy: 0.7094 - precision: 0.7714 - recall: 0.6203 - val_loss: 9.9151 - val_accuracy: 0.7099 - val_precision: 0.7500 - val_recall: 0.6462\n",
            "Epoch 6/30\n",
            "29/29 [==============================] - 3s 106ms/step - loss: 9.7315 - accuracy: 0.7452 - precision: 0.7972 - recall: 0.6621 - val_loss: 9.6923 - val_accuracy: 0.7473 - val_precision: 0.7841 - val_recall: 0.6945\n",
            "Epoch 7/30\n",
            "29/29 [==============================] - 2s 77ms/step - loss: 9.5650 - accuracy: 0.7628 - precision: 0.8117 - recall: 0.6951 - val_loss: 9.5667 - val_accuracy: 0.7451 - val_precision: 0.7836 - val_recall: 0.6923\n",
            "Epoch 8/30\n",
            "29/29 [==============================] - 3s 101ms/step - loss: 9.3537 - accuracy: 0.7914 - precision: 0.8428 - recall: 0.7375 - val_loss: 9.3544 - val_accuracy: 0.7868 - val_precision: 0.8201 - val_recall: 0.7516\n",
            "Epoch 9/30\n",
            "29/29 [==============================] - 2s 68ms/step - loss: 9.1690 - accuracy: 0.8398 - precision: 0.8753 - recall: 0.7843 - val_loss: 9.2854 - val_accuracy: 0.7604 - val_precision: 0.7922 - val_recall: 0.7121\n",
            "Epoch 10/30\n",
            "29/29 [==============================] - 3s 92ms/step - loss: 9.0257 - accuracy: 0.8514 - precision: 0.8870 - recall: 0.8035 - val_loss: 9.1031 - val_accuracy: 0.8022 - val_precision: 0.8305 - val_recall: 0.7538\n",
            "Epoch 11/30\n",
            "29/29 [==============================] - 2s 73ms/step - loss: 8.8455 - accuracy: 0.8751 - precision: 0.9065 - recall: 0.8321 - val_loss: 9.0719 - val_accuracy: 0.7626 - val_precision: 0.7885 - val_recall: 0.7209\n",
            "Epoch 12/30\n",
            "29/29 [==============================] - 2s 85ms/step - loss: 8.6974 - accuracy: 0.8817 - precision: 0.9112 - recall: 0.8531 - val_loss: 8.9108 - val_accuracy: 0.7824 - val_precision: 0.8119 - val_recall: 0.7495\n",
            "Epoch 13/30\n",
            "29/29 [==============================] - 3s 98ms/step - loss: 8.5612 - accuracy: 0.9015 - precision: 0.9182 - recall: 0.8707 - val_loss: 8.7555 - val_accuracy: 0.8044 - val_precision: 0.8365 - val_recall: 0.7648\n",
            "Epoch 14/30\n",
            "29/29 [==============================] - 2s 73ms/step - loss: 8.4157 - accuracy: 0.9114 - precision: 0.9286 - recall: 0.8806 - val_loss: 8.6697 - val_accuracy: 0.7978 - val_precision: 0.8255 - val_recall: 0.7692\n",
            "Epoch 15/30\n",
            "29/29 [==============================] - 2s 73ms/step - loss: 8.2658 - accuracy: 0.9301 - precision: 0.9403 - recall: 0.9020 - val_loss: 8.5566 - val_accuracy: 0.8044 - val_precision: 0.8385 - val_recall: 0.7758\n",
            "Epoch 16/30\n",
            "29/29 [==============================] - 2s 67ms/step - loss: 8.1254 - accuracy: 0.9439 - precision: 0.9535 - recall: 0.9263 - val_loss: 8.4613 - val_accuracy: 0.7912 - val_precision: 0.8184 - val_recall: 0.7626\n",
            "Epoch 17/30\n",
            "29/29 [==============================] - 2s 74ms/step - loss: 8.0241 - accuracy: 0.9433 - precision: 0.9567 - recall: 0.9235 - val_loss: 8.3128 - val_accuracy: 0.8044 - val_precision: 0.8306 - val_recall: 0.7758\n",
            "Epoch 18/30\n",
            "29/29 [==============================] - 3s 108ms/step - loss: 7.8691 - accuracy: 0.9565 - precision: 0.9655 - recall: 0.9395 - val_loss: 8.2344 - val_accuracy: 0.8088 - val_precision: 0.8310 - val_recall: 0.7780\n",
            "Epoch 19/30\n",
            "29/29 [==============================] - 2s 75ms/step - loss: 7.7398 - accuracy: 0.9615 - precision: 0.9712 - recall: 0.9477 - val_loss: 8.0763 - val_accuracy: 0.8088 - val_precision: 0.8376 - val_recall: 0.7824\n",
            "Epoch 20/30\n",
            "29/29 [==============================] - 2s 74ms/step - loss: 7.6239 - accuracy: 0.9615 - precision: 0.9714 - recall: 0.9549 - val_loss: 8.0525 - val_accuracy: 0.8044 - val_precision: 0.8209 - val_recall: 0.7758\n",
            "Epoch 21/30\n",
            "29/29 [==============================] - 2s 68ms/step - loss: 7.5045 - accuracy: 0.9664 - precision: 0.9769 - recall: 0.9532 - val_loss: 7.8879 - val_accuracy: 0.8066 - val_precision: 0.8318 - val_recall: 0.7824\n",
            "Epoch 22/30\n",
            "29/29 [==============================] - 3s 88ms/step - loss: 7.3899 - accuracy: 0.9681 - precision: 0.9759 - recall: 0.9576 - val_loss: 7.7835 - val_accuracy: 0.8242 - val_precision: 0.8376 - val_recall: 0.7824\n",
            "Epoch 23/30\n",
            "29/29 [==============================] - 2s 75ms/step - loss: 7.2840 - accuracy: 0.9681 - precision: 0.9739 - recall: 0.9642 - val_loss: 7.6831 - val_accuracy: 0.8154 - val_precision: 0.8388 - val_recall: 0.7890\n",
            "Epoch 24/30\n",
            "29/29 [==============================] - 2s 80ms/step - loss: 7.1606 - accuracy: 0.9747 - precision: 0.9788 - recall: 0.9670 - val_loss: 7.5699 - val_accuracy: 0.8132 - val_precision: 0.8349 - val_recall: 0.7780\n",
            "Epoch 25/30\n",
            "29/29 [==============================] - 2s 77ms/step - loss: 7.0442 - accuracy: 0.9813 - precision: 0.9866 - recall: 0.9719 - val_loss: 7.5079 - val_accuracy: 0.8132 - val_precision: 0.8431 - val_recall: 0.7912\n",
            "Epoch 26/30\n",
            "29/29 [==============================] - 2s 73ms/step - loss: 6.9356 - accuracy: 0.9818 - precision: 0.9844 - recall: 0.9752 - val_loss: 7.3936 - val_accuracy: 0.8176 - val_precision: 0.8372 - val_recall: 0.8022\n",
            "Epoch 27/30\n",
            "29/29 [==============================] - 2s 73ms/step - loss: 6.8368 - accuracy: 0.9780 - precision: 0.9800 - recall: 0.9719 - val_loss: 7.3363 - val_accuracy: 0.8044 - val_precision: 0.8174 - val_recall: 0.7868\n",
            "Epoch 28/30\n",
            "29/29 [==============================] - 2s 73ms/step - loss: 6.7221 - accuracy: 0.9807 - precision: 0.9850 - recall: 0.9763 - val_loss: 7.1746 - val_accuracy: 0.8088 - val_precision: 0.8207 - val_recall: 0.7846\n",
            "Epoch 29/30\n",
            "29/29 [==============================] - 2s 68ms/step - loss: 6.6281 - accuracy: 0.9785 - precision: 0.9849 - recall: 0.9725 - val_loss: 7.0897 - val_accuracy: 0.8176 - val_precision: 0.8419 - val_recall: 0.7956\n",
            "Epoch 30/30\n",
            "29/29 [==============================] - 2s 79ms/step - loss: 6.5107 - accuracy: 0.9851 - precision: 0.9878 - recall: 0.9818 - val_loss: 7.0108 - val_accuracy: 0.8022 - val_precision: 0.8249 - val_recall: 0.7868\n"
          ]
        }
      ],
      "source": [
        "from tensorflow.keras.callbacks import EarlyStopping\n",
        "\n",
        "EPOCHS = 30\n",
        "early_stopping = EarlyStopping(monitor='val_accuracy', patience=EPOCHS//3, restore_best_weights=True)\n",
        "history = model.fit(X_train, y_train, epochs=EPOCHS, validation_data = (X_test, y_test), batch_size=64,callbacks=[early_stopping])"
      ]
    },
    {
      "cell_type": "code",
      "execution_count": 13,
      "metadata": {
        "id": "YR7Hsn-ZdXc3"
      },
      "outputs": [],
      "source": [
        "# fig, ax = plt.subplots(2,1)\n",
        "# ax[0].plot(history.history['loss'], color='b', label=\"Training Loss\")\n",
        "# ax[0].plot(history.history['val_loss'], color='r', label=\"Validation Loss\",axes =ax[0])\n",
        "# legend = ax[0].legend(loc='best', shadow=True)\n",
        "\n",
        "# ax[1].plot(history.history['accuracy'], color='b', label=\"Training Accuracy\")\n",
        "# ax[1].plot(history.history['val_accuracy'], color='r',label=\"Validation Accuracy\")\n",
        "# legend = ax[1].legend(loc='best', shadow=True)"
      ]
    },
    {
      "cell_type": "code",
      "execution_count": 14,
      "metadata": {
        "colab": {
          "base_uri": "https://localhost:8080/"
        },
        "id": "DscAsIKIdXc3",
        "outputId": "f0fa8fe3-7c12-428d-ebef-e49656c00813"
      },
      "outputs": [
        {
          "output_type": "stream",
          "name": "stdout",
          "text": [
            "15/15 [==============================] - 0s 14ms/step - loss: 7.0108 - accuracy: 0.8022 - precision: 0.8249 - recall: 0.7868\n",
            "Test Accuracy : 80.22%\n"
          ]
        }
      ],
      "source": [
        "evaluation = model.evaluate(X_test, y_test)\n",
        "print(f'Test Accuracy : {evaluation[1] * 100:.2f}%')"
      ]
    },
    {
      "cell_type": "code",
      "execution_count": 15,
      "metadata": {
        "colab": {
          "base_uri": "https://localhost:8080/",
          "height": 711
        },
        "id": "97tVB1SzdXc3",
        "outputId": "e5cd5dfc-2c1d-4f3d-cfb2-6fb91ab0fc88"
      },
      "outputs": [
        {
          "output_type": "stream",
          "name": "stdout",
          "text": [
            "15/15 [==============================] - 0s 10ms/step\n"
          ]
        },
        {
          "output_type": "execute_result",
          "data": {
            "text/plain": [
              "<Axes: >"
            ]
          },
          "metadata": {},
          "execution_count": 15
        },
        {
          "output_type": "display_data",
          "data": {
            "text/plain": [
              "<Figure size 1000x800 with 2 Axes>"
            ],
            "image/png": "[encoded data removed]"
          },
          "metadata": {}
        }
      ],
      "source": [
        "class_names = [\"Egyptian\", \"Khaliji\", \"Levantine\", \"Marocean\", \"MSA\"]\n",
        "\n",
        "# Predict the values from the testing dataset\n",
        "Y_pred = model.predict(X_test)\n",
        "# Convert predictions classes to one hot vectors\n",
        "Y_pred_classes = np.argmax(Y_pred,axis = 1)\n",
        "# Convert testing observations to one hot vectors\n",
        "Y_true = np.argmax(y_test,axis = 1)\n",
        "# compute the confusion matrix\n",
        "confusion_mtx = tf.math.confusion_matrix(Y_true, Y_pred_classes)\n",
        "\n",
        "plt.figure(figsize=(10, 8))\n",
        "sns.heatmap(confusion_mtx, annot=True, fmt='g',xticklabels=class_names, yticklabels=class_names)"
      ]
    },
    {
      "cell_type": "code",
      "execution_count": 16,
      "metadata": {
        "colab": {
          "base_uri": "https://localhost:8080/"
        },
        "id": "wngyAQbldXc4",
        "outputId": "dd4788af-6850-473d-caa7-79cf1ea99299"
      },
      "outputs": [
        {
          "output_type": "stream",
          "name": "stdout",
          "text": [
            "              precision    recall  f1-score   support\n",
            "\n",
            "           0       0.84      0.62      0.71        99\n",
            "           1       0.78      0.89      0.83        94\n",
            "           2       0.74      0.86      0.80        77\n",
            "           3       0.83      0.84      0.84        94\n",
            "           4       0.83      0.82      0.83        91\n",
            "\n",
            "    accuracy                           0.80       455\n",
            "   macro avg       0.80      0.81      0.80       455\n",
            "weighted avg       0.81      0.80      0.80       455\n",
            "\n"
          ]
        }
      ],
      "source": [
        "from sklearn.metrics import classification_report\n",
        "print(classification_report(Y_true, Y_pred_classes))"
      ]
    },
    {
      "cell_type": "code",
      "execution_count": 17,
      "metadata": {
        "id": "UM3F-b3gdXc4"
      },
      "outputs": [],
      "source": [
        "# model.save(path+'yamnet_model40.h5')"
      ]
    },
    {
      "cell_type": "code",
      "execution_count": 18,
      "metadata": {
        "id": "NC3QiQk_dXc4"
      },
      "outputs": [],
      "source": [
        "# model = tf.keras.models.load_model('yamnet_model.h5')"
      ]
    },
    {
      "cell_type": "code",
      "execution_count": 20,
      "metadata": {
        "colab": {
          "base_uri": "https://localhost:8080/"
        },
        "id": "0lbHqSBldXc4",
        "outputId": "f33a3722-544a-4957-cf7c-f16301d87669"
      },
      "outputs": [
        {
          "output_type": "stream",
          "name": "stdout",
          "text": [
            "len(X): 456\n",
            "len(y): 456\n"
          ]
        }
      ],
      "source": [
        "with open(path+'X_test2.pkl', 'rb') as f:\n",
        "    loaded_array = pickle.load(f)\n",
        "\n",
        "X = loaded_array\n",
        "\n",
        "with open(path+'y_test2.pkl', 'rb') as f:\n",
        "    loaded_array = pickle.load(f)\n",
        "\n",
        "y = loaded_array\n",
        "\n",
        "print(\"len(X):\", len(X))\n",
        "print(\"len(y):\", len(y))\n",
        "\n",
        "X = np.array(X)\n",
        "y = np.array(y)"
      ]
    },
    {
      "cell_type": "code",
      "source": [
        "NUM_CLASSES = 5\n",
        "y = tf.keras.utils.to_categorical(y, NUM_CLASSES)"
      ],
      "metadata": {
        "id": "t-_tDxmrpPzi"
      },
      "execution_count": 21,
      "outputs": []
    },
    {
      "cell_type": "code",
      "source": [
        "evaluation = model.evaluate(X, y)\n",
        "print(f'Test Accuracy : {evaluation[1] * 100:.2f}%')"
      ],
      "metadata": {
        "colab": {
          "base_uri": "https://localhost:8080/"
        },
        "id": "iYKlisQypUk5",
        "outputId": "7b96caa8-6c57-4c42-c702-e9ec1715a1c7"
      },
      "execution_count": 22,
      "outputs": [
        {
          "output_type": "stream",
          "name": "stdout",
          "text": [
            "15/15 [==============================] - 0s 16ms/step - loss: 8.7363 - accuracy: 0.4605 - precision: 0.4789 - recall: 0.4474\n",
            "Test Accuracy : 46.05%\n"
          ]
        }
      ]
    },
    {
      "cell_type": "code",
      "source": [
        "class_names = [\"Egyptian\", \"Khalijy\", \"Levantine\", \"Marocean\", \"MSA\"]\n",
        "\n",
        "# Predict the values from the testing dataset\n",
        "Y_pred = model.predict(X)\n",
        "# Convert predictions classes to one hot vectors\n",
        "Y_pred_classes = np.argmax(Y_pred,axis = 1)\n",
        "# Convert testing observations to one hot vectors\n",
        "Y_true = np.argmax(y,axis = 1)\n",
        "# compute the confusion matrix\n",
        "confusion_mtx = tf.math.confusion_matrix(Y_true, Y_pred_classes)\n",
        "\n",
        "plt.figure(figsize=(10, 8))\n",
        "sns.heatmap(confusion_mtx, annot=True, fmt='g',xticklabels=class_names, yticklabels=class_names)"
      ],
      "metadata": {
        "colab": {
          "base_uri": "https://localhost:8080/",
          "height": 711
        },
        "id": "t262op8rpWWQ",
        "outputId": "9704b9f8-7e67-451d-980c-72fa1b184489"
      },
      "execution_count": 23,
      "outputs": [
        {
          "output_type": "stream",
          "name": "stdout",
          "text": [
            "15/15 [==============================] - 0s 14ms/step\n"
          ]
        },
        {
          "output_type": "execute_result",
          "data": {
            "text/plain": [
              "<Axes: >"
            ]
          },
          "metadata": {},
          "execution_count": 23
        },
        {
          "output_type": "display_data",
          "data": {
            "text/plain": [
              "<Figure size 1000x800 with 2 Axes>"
            ],
            "image/png": "[encoded data removed]"
          },
          "metadata": {}
        }
      ]
    },
    {
      "cell_type": "code",
      "source": [
        "from sklearn.metrics import classification_report\n",
        "print(classification_report(Y_true, Y_pred_classes))"
      ],
      "metadata": {
        "id": "UxLnCIydpX6C",
        "colab": {
          "base_uri": "https://localhost:8080/"
        },
        "outputId": "45b1c1ef-de82-410f-d7e6-0db1c4addca2"
      },
      "execution_count": 24,
      "outputs": [
        {
          "output_type": "stream",
          "name": "stdout",
          "text": [
            "              precision    recall  f1-score   support\n",
            "\n",
            "           0       0.39      0.29      0.33        83\n",
            "           1       0.52      0.62      0.57        84\n",
            "           2       0.35      0.55      0.42        84\n",
            "           3       0.60      0.42      0.49       112\n",
            "           4       0.49      0.44      0.46        93\n",
            "\n",
            "    accuracy                           0.46       456\n",
            "   macro avg       0.47      0.46      0.46       456\n",
            "weighted avg       0.48      0.46      0.46       456\n",
            "\n"
          ]
        }
      ]
    },
    {
      "cell_type": "code",
      "source": [],
      "metadata": {
        "id": "B9MzqyX3HXAi"
      },
      "execution_count": null,
      "outputs": []
    }
  ],
  "metadata": {
    "kernelspec": {
      "display_name": "Python 3",
      "name": "python3"
    },
    "language_info": {
      "codemirror_mode": {
        "name": "ipython",
        "version": 3
      },
      "file_extension": ".py",
      "mimetype": "text/x-python",
      "name": "python",
      "nbconvert_exporter": "python",
      "pygments_lexer": "ipython3",
      "version": "3.8.10"
    },
    "colab": {
      "provenance": [],
      "gpuType": "T4"
    },
    "accelerator": "GPU"
  },
  "nbformat": 4,
  "nbformat_minor": 0
}