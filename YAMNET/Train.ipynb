{
 "cells": [
  {
   "cell_type": "code",
   "execution_count": 1,
   "metadata": {},
   "outputs": [
    {
     "name": "stderr",
     "output_type": "stream",
     "text": [
      "2024-05-14 23:42:14.079931: I tensorflow/core/util/port.cc:110] oneDNN custom operations are on. You may see slightly different numerical results due to floating-point round-off errors from different computation orders. To turn them off, set the environment variable `TF_ENABLE_ONEDNN_OPTS=0`.\n",
      "2024-05-14 23:42:14.109674: I tensorflow/tsl/cuda/cudart_stub.cc:28] Could not find cuda drivers on your machine, GPU will not be used.\n",
      "2024-05-14 23:42:14.311779: I tensorflow/tsl/cuda/cudart_stub.cc:28] Could not find cuda drivers on your machine, GPU will not be used.\n",
      "2024-05-14 23:42:14.312570: I tensorflow/core/platform/cpu_feature_guard.cc:182] This TensorFlow binary is optimized to use available CPU instructions in performance-critical operations.\n",
      "To enable the following instructions: AVX2 AVX512F AVX512_VNNI FMA, in other operations, rebuild TensorFlow with the appropriate compiler flags.\n",
      "2024-05-14 23:42:15.146150: W tensorflow/compiler/tf2tensorrt/utils/py_utils.cc:38] TF-TRT Warning: Could not find TensorRT\n"
     ]
    }
   ],
   "source": [
    "import tensorflow as tf\n",
    "import pickle\n",
    "import seaborn as sns\n",
    "import matplotlib.pyplot as plt\n",
    "import numpy as np"
   ]
  },
  {
   "cell_type": "code",
   "execution_count": 14,
   "metadata": {},
   "outputs": [],
   "source": [
    "with open('X.pkl', 'rb') as f:\n",
    "    loaded_array = pickle.load(f)\n",
    "\n",
    "X = loaded_array\n",
    "\n",
    "with open('y.pkl', 'rb') as f:\n",
    "    loaded_array = pickle.load(f)\n",
    "\n",
    "y = loaded_array"
   ]
  },
  {
   "cell_type": "code",
   "execution_count": 16,
   "metadata": {},
   "outputs": [
    {
     "data": {
      "text/plain": [
       "TensorShape([124, 1024])"
      ]
     },
     "execution_count": 16,
     "metadata": {},
     "output_type": "execute_result"
    }
   ],
   "source": [
    "X[0].shape"
   ]
  },
  {
   "cell_type": "code",
   "execution_count": 17,
   "metadata": {},
   "outputs": [
    {
     "name": "stdout",
     "output_type": "stream",
     "text": [
      "len(X): 710\n",
      "len(y): 710\n"
     ]
    }
   ],
   "source": [
    "print(\"len(X):\", len(X))\n",
    "print(\"len(y):\", len(y))"
   ]
  },
  {
   "cell_type": "code",
   "execution_count": 18,
   "metadata": {},
   "outputs": [],
   "source": [
    "num_classes = 5\n",
    "y = tf.keras.utils.to_categorical(y, num_classes)"
   ]
  },
  {
   "cell_type": "code",
   "execution_count": 19,
   "metadata": {},
   "outputs": [
    {
     "data": {
      "text/plain": [
       "array([[1., 0., 0., 0., 0.],\n",
       "       [1., 0., 0., 0., 0.],\n",
       "       [1., 0., 0., 0., 0.],\n",
       "       ...,\n",
       "       [0., 0., 0., 0., 1.],\n",
       "       [0., 0., 0., 0., 1.],\n",
       "       [0., 0., 0., 0., 1.]], dtype=float32)"
      ]
     },
     "execution_count": 19,
     "metadata": {},
     "output_type": "execute_result"
    }
   ],
   "source": [
    "y"
   ]
  },
  {
   "cell_type": "code",
   "execution_count": 20,
   "metadata": {},
   "outputs": [],
   "source": [
    "from sklearn.model_selection import train_test_split\n",
    "\n",
    "X_train, X_test, y_train, y_test = train_test_split(X, y, test_size=0.2, random_state=42)"
   ]
  },
  {
   "cell_type": "code",
   "execution_count": 26,
   "metadata": {},
   "outputs": [
    {
     "name": "stdout",
     "output_type": "stream",
     "text": [
      "len(X_train): 568\n",
      "len(X_test): 142\n",
      "len(y_train): 568\n",
      "len(y_test): 142\n"
     ]
    }
   ],
   "source": [
    "print(\"len(X_train):\", len(X_train))\n",
    "print(\"len(X_test):\", len(X_test))\n",
    "print(\"len(y_train):\", len(y_train))\n",
    "print(\"len(y_test):\", len(y_test))"
   ]
  },
  {
   "cell_type": "code",
   "execution_count": 32,
   "metadata": {},
   "outputs": [],
   "source": [
    "X_train = np.array(X_train)\n",
    "X_test = np.array(X_test)\n",
    "y_train = np.array(y_train)\n",
    "y_test = np.array(y_test)"
   ]
  },
  {
   "cell_type": "code",
   "execution_count": 33,
   "metadata": {},
   "outputs": [
    {
     "name": "stdout",
     "output_type": "stream",
     "text": [
      "Model: \"yamnet_model\"\n",
      "_________________________________________________________________\n",
      " Layer (type)                Output Shape              Param #   \n",
      "=================================================================\n",
      " flatten_2 (Flatten)         (None, 126976)            0         \n",
      "                                                                 \n",
      " dense_4 (Dense)             (None, 512)               65012224  \n",
      "                                                                 \n",
      " dense_5 (Dense)             (None, 5)                 2565      \n",
      "                                                                 \n",
      "=================================================================\n",
      "Total params: 65014789 (248.01 MB)\n",
      "Trainable params: 65014789 (248.01 MB)\n",
      "Non-trainable params: 0 (0.00 Byte)\n",
      "_________________________________________________________________\n"
     ]
    }
   ],
   "source": [
    "import tensorflow as tf\n",
    "\n",
    "model = tf.keras.Sequential([\n",
    "    tf.keras.layers.Input(shape=(124,1024), dtype=tf.float32, name='input_embedding'),\n",
    "    tf.keras.layers.Flatten(),\n",
    "    tf.keras.layers.Dense(512, activation='relu'),\n",
    "    tf.keras.layers.Dense(5, activation='softmax')\n",
    "], name='yamnet_model')\n",
    "\n",
    "\n",
    "# Compile the model\n",
    "METRICS = [\n",
    "    'accuracy',\n",
    "    tf.keras.metrics.Precision(name='precision'),\n",
    "    tf.keras.metrics.Recall(name='recall')\n",
    "]\n",
    "\n",
    "model.compile(optimizer='Adam',\n",
    "              loss='categorical_crossentropy',\n",
    "              metrics=METRICS)\n",
    "\n",
    "\n",
    "model.summary()"
   ]
  },
  {
   "cell_type": "code",
   "execution_count": 35,
   "metadata": {},
   "outputs": [
    {
     "name": "stdout",
     "output_type": "stream",
     "text": [
      "Epoch 1/10\n",
      "18/18 [==============================] - 12s 613ms/step - loss: 12.2067 - accuracy: 0.4085 - precision: 0.4102 - recall: 0.3979 - val_loss: 4.2753 - val_accuracy: 0.2817 - val_precision: 0.2754 - val_recall: 0.2676\n",
      "Epoch 2/10\n",
      "18/18 [==============================] - 10s 561ms/step - loss: 1.2087 - accuracy: 0.6901 - precision: 0.7219 - recall: 0.6673 - val_loss: 1.6165 - val_accuracy: 0.5493 - val_precision: 0.6545 - val_recall: 0.5070\n",
      "Epoch 3/10\n",
      "18/18 [==============================] - 10s 563ms/step - loss: 0.2696 - accuracy: 0.9102 - precision: 0.9473 - recall: 0.8856 - val_loss: 1.4760 - val_accuracy: 0.6972 - val_precision: 0.7395 - val_recall: 0.6197\n",
      "Epoch 4/10\n",
      "18/18 [==============================] - 10s 560ms/step - loss: 0.1230 - accuracy: 0.9824 - precision: 0.9875 - recall: 0.9754 - val_loss: 1.3831 - val_accuracy: 0.7606 - val_precision: 0.7953 - val_recall: 0.7113\n",
      "Epoch 5/10\n",
      "18/18 [==============================] - 10s 558ms/step - loss: 0.0458 - accuracy: 1.0000 - precision: 1.0000 - recall: 1.0000 - val_loss: 1.3919 - val_accuracy: 0.7958 - val_precision: 0.8060 - val_recall: 0.7606\n",
      "Epoch 6/10\n",
      "18/18 [==============================] - 10s 559ms/step - loss: 0.0199 - accuracy: 1.0000 - precision: 1.0000 - recall: 1.0000 - val_loss: 1.4156 - val_accuracy: 0.7817 - val_precision: 0.7926 - val_recall: 0.7535\n",
      "Epoch 7/10\n",
      "18/18 [==============================] - 10s 566ms/step - loss: 0.0112 - accuracy: 1.0000 - precision: 1.0000 - recall: 1.0000 - val_loss: 1.4175 - val_accuracy: 0.7817 - val_precision: 0.7985 - val_recall: 0.7535\n"
     ]
    }
   ],
   "source": [
    "from tensorflow.keras.callbacks import EarlyStopping\n",
    "\n",
    "EPOCHS = 10\n",
    "early_stopping = EarlyStopping(monitor='val_loss', patience=EPOCHS//3, restore_best_weights=True)\n",
    "history = model.fit(X_train, y_train, epochs=EPOCHS, validation_data = (X_test, y_test), batch_size=32,callbacks=[early_stopping])"
   ]
  },
  {
   "cell_type": "code",
   "execution_count": 36,
   "metadata": {},
   "outputs": [
    {
     "data": {
      "image/png": "[encoded data removed]",
      "text/plain": [
       "<Figure size 640x480 with 2 Axes>"
      ]
     },
     "metadata": {},
     "output_type": "display_data"
    }
   ],
   "source": [
    "fig, ax = plt.subplots(2,1)\n",
    "ax[0].plot(history.history['loss'], color='b', label=\"Training Loss\")\n",
    "ax[0].plot(history.history['val_loss'], color='r', label=\"Validation Loss\",axes =ax[0])\n",
    "legend = ax[0].legend(loc='best', shadow=True)\n",
    "\n",
    "ax[1].plot(history.history['accuracy'], color='b', label=\"Training Accuracy\")\n",
    "ax[1].plot(history.history['val_accuracy'], color='r',label=\"Validation Accuracy\")\n",
    "legend = ax[1].legend(loc='best', shadow=True)"
   ]
  },
  {
   "cell_type": "code",
   "execution_count": 37,
   "metadata": {},
   "outputs": [
    {
     "name": "stdout",
     "output_type": "stream",
     "text": [
      "5/5 [==============================] - 0s 34ms/step - loss: 1.3831 - accuracy: 0.7606 - precision: 0.7953 - recall: 0.7113\n",
      "Test Accuracy : 76.06%\n"
     ]
    }
   ],
   "source": [
    "evaluation = model.evaluate(X_test, y_test)\n",
    "print(f'Test Accuracy : {evaluation[1] * 100:.2f}%')"
   ]
  },
  {
   "cell_type": "code",
   "execution_count": 38,
   "metadata": {},
   "outputs": [
    {
     "name": "stdout",
     "output_type": "stream",
     "text": [
      "5/5 [==============================] - 0s 38ms/step\n"
     ]
    },
    {
     "data": {
      "text/plain": [
       "<Axes: >"
      ]
     },
     "execution_count": 38,
     "metadata": {},
     "output_type": "execute_result"
    },
    {
     "data": {
      "image/png": "[encoded data removed]",
      "text/plain": [
       "<Figure size 1000x800 with 2 Axes>"
      ]
     },
     "metadata": {},
     "output_type": "display_data"
    }
   ],
   "source": [
    "# Predict the values from the testing dataset\n",
    "Y_pred = model.predict(X_test)\n",
    "# Convert predictions classes to one hot vectors\n",
    "Y_pred_classes = np.argmax(Y_pred,axis = 1)\n",
    "# Convert testing observations to one hot vectors\n",
    "Y_true = np.argmax(y_test,axis = 1)\n",
    "# compute the confusion matrix\n",
    "confusion_mtx = tf.math.confusion_matrix(Y_true, Y_pred_classes)\n",
    "\n",
    "plt.figure(figsize=(10, 8))\n",
    "sns.heatmap(confusion_mtx, annot=True, fmt='g')"
   ]
  },
  {
   "cell_type": "code",
   "execution_count": 39,
   "metadata": {},
   "outputs": [
    {
     "name": "stdout",
     "output_type": "stream",
     "text": [
      "              precision    recall  f1-score   support\n",
      "\n",
      "           0       0.79      0.71      0.75        31\n",
      "           1       0.79      0.68      0.73        28\n",
      "           2       0.68      0.88      0.77        34\n",
      "           3       0.81      0.88      0.85        25\n",
      "           4       0.79      0.62      0.70        24\n",
      "\n",
      "    accuracy                           0.76       142\n",
      "   macro avg       0.77      0.76      0.76       142\n",
      "weighted avg       0.77      0.76      0.76       142\n",
      "\n"
     ]
    }
   ],
   "source": [
    "from sklearn.metrics import classification_report\n",
    "print(classification_report(Y_true, Y_pred_classes))"
   ]
  },
  {
   "cell_type": "code",
   "execution_count": 40,
   "metadata": {},
   "outputs": [
    {
     "name": "stderr",
     "output_type": "stream",
     "text": [
      "/home/hassan/.local/lib/python3.8/site-packages/keras/src/engine/training.py:3000: UserWarning: You are saving your model as an HDF5 file via `model.save()`. This file format is considered legacy. We recommend using instead the native Keras format, e.g. `model.save('my_model.keras')`.\n",
      "  saving_api.save_model(\n"
     ]
    }
   ],
   "source": [
    "model.save('yamnet_model.h5')"
   ]
  },
  {
   "cell_type": "code",
   "execution_count": 41,
   "metadata": {},
   "outputs": [],
   "source": [
    "model = tf.keras.models.load_model('yamnet_model.h5')"
   ]
  },
  {
   "cell_type": "code",
   "execution_count": null,
   "metadata": {},
   "outputs": [],
   "source": []
  }
 ],
 "metadata": {
  "kernelspec": {
   "display_name": "Python 3",
   "language": "python",
   "name": "python3"
  },
  "language_info": {
   "codemirror_mode": {
    "name": "ipython",
    "version": 3
   },
   "file_extension": ".py",
   "mimetype": "text/x-python",
   "name": "python",
   "nbconvert_exporter": "python",
   "pygments_lexer": "ipython3",
   "version": "3.8.10"
  }
 },
 "nbformat": 4,
 "nbformat_minor": 2
}
