{
 "cells": [
  {
   "cell_type": "code",
   "execution_count": 1,
   "metadata": {},
   "outputs": [
    {
     "name": "stderr",
     "output_type": "stream",
     "text": [
      "2024-05-15 00:10:01.156243: I tensorflow/core/util/port.cc:110] oneDNN custom operations are on. You may see slightly different numerical results due to floating-point round-off errors from different computation orders. To turn them off, set the environment variable `TF_ENABLE_ONEDNN_OPTS=0`.\n",
      "2024-05-15 00:10:01.172375: I tensorflow/tsl/cuda/cudart_stub.cc:28] Could not find cuda drivers on your machine, GPU will not be used.\n",
      "2024-05-15 00:10:01.357777: I tensorflow/tsl/cuda/cudart_stub.cc:28] Could not find cuda drivers on your machine, GPU will not be used.\n",
      "2024-05-15 00:10:01.358549: I tensorflow/core/platform/cpu_feature_guard.cc:182] This TensorFlow binary is optimized to use available CPU instructions in performance-critical operations.\n",
      "To enable the following instructions: AVX2 AVX512F AVX512_VNNI FMA, in other operations, rebuild TensorFlow with the appropriate compiler flags.\n",
      "2024-05-15 00:10:02.168163: W tensorflow/compiler/tf2tensorrt/utils/py_utils.cc:38] TF-TRT Warning: Could not find TensorRT\n"
     ]
    }
   ],
   "source": [
    "import tensorflow as tf\n",
    "import pickle\n",
    "import seaborn as sns\n",
    "import matplotlib.pyplot as plt\n",
    "import numpy as np"
   ]
  },
  {
   "cell_type": "code",
   "execution_count": 2,
   "metadata": {},
   "outputs": [
    {
     "name": "stdout",
     "output_type": "stream",
     "text": [
      "len(X): 710\n",
      "len(y): 710\n"
     ]
    }
   ],
   "source": [
    "X = np.load('X.npy')\n",
    "y = np.load('y.npy')\n",
    "print(\"len(X):\", len(X))\n",
    "print(\"len(y):\", len(y))"
   ]
  },
  {
   "cell_type": "code",
   "execution_count": 4,
   "metadata": {},
   "outputs": [],
   "source": [
    "num_classes = 5\n",
    "y = tf.keras.utils.to_categorical(y, num_classes)"
   ]
  },
  {
   "cell_type": "code",
   "execution_count": 5,
   "metadata": {},
   "outputs": [],
   "source": [
    "from sklearn.model_selection import train_test_split\n",
    "\n",
    "X_train, X_test, y_train, y_test = train_test_split(X, y, test_size=0.2, random_state=42)"
   ]
  },
  {
   "cell_type": "code",
   "execution_count": 6,
   "metadata": {},
   "outputs": [
    {
     "name": "stdout",
     "output_type": "stream",
     "text": [
      "len(X_train): 568\n",
      "len(X_test): 142\n",
      "len(y_train): 568\n",
      "len(y_test): 142\n"
     ]
    }
   ],
   "source": [
    "print(\"len(X_train):\", len(X_train))\n",
    "print(\"len(X_test):\", len(X_test))\n",
    "print(\"len(y_train):\", len(y_train))\n",
    "print(\"len(y_test):\", len(y_test))"
   ]
  },
  {
   "cell_type": "code",
   "execution_count": 7,
   "metadata": {},
   "outputs": [
    {
     "data": {
      "text/plain": [
       "(62, 128)"
      ]
     },
     "execution_count": 7,
     "metadata": {},
     "output_type": "execute_result"
    }
   ],
   "source": [
    "X_train[0].shape"
   ]
  },
  {
   "cell_type": "code",
   "execution_count": 10,
   "metadata": {},
   "outputs": [
    {
     "name": "stdout",
     "output_type": "stream",
     "text": [
      "Model: \"vggish_model\"\n",
      "_________________________________________________________________\n",
      " Layer (type)                Output Shape              Param #   \n",
      "=================================================================\n"
     ]
    },
    {
     "name": "stdout",
     "output_type": "stream",
     "text": [
      " flatten_1 (Flatten)         (None, 7936)              0         \n",
      "                                                                 \n",
      " dense_2 (Dense)             (None, 512)               4063744   \n",
      "                                                                 \n",
      " dense_3 (Dense)             (None, 5)                 2565      \n",
      "                                                                 \n",
      "=================================================================\n",
      "Total params: 4066309 (15.51 MB)\n",
      "Trainable params: 4066309 (15.51 MB)\n",
      "Non-trainable params: 0 (0.00 Byte)\n",
      "_________________________________________________________________\n"
     ]
    }
   ],
   "source": [
    "import tensorflow as tf\n",
    "\n",
    "model = tf.keras.Sequential([\n",
    "    tf.keras.layers.Input(shape=(62,128), dtype=tf.float32, name='input_embedding'),\n",
    "    tf.keras.layers.Flatten(),\n",
    "    tf.keras.layers.Dense(512, activation='relu'),\n",
    "    tf.keras.layers.Dense(5, activation='softmax')\n",
    "], name='vggish_model')\n",
    "\n",
    "\n",
    "# Compile the model\n",
    "METRICS = [\n",
    "    'accuracy',\n",
    "    tf.keras.metrics.Precision(name='precision'),\n",
    "    tf.keras.metrics.Recall(name='recall')\n",
    "]\n",
    "\n",
    "model.compile(optimizer='Adam',\n",
    "              loss='categorical_crossentropy',\n",
    "              metrics=METRICS)\n",
    "\n",
    "\n",
    "model.summary()"
   ]
  },
  {
   "cell_type": "code",
   "execution_count": 11,
   "metadata": {},
   "outputs": [
    {
     "name": "stdout",
     "output_type": "stream",
     "text": [
      "Epoch 1/10\n",
      "9/9 [==============================] - 1s 61ms/step - loss: 11.8146 - accuracy: 0.2113 - precision: 0.2102 - recall: 0.1954 - val_loss: 3.6615 - val_accuracy: 0.2183 - val_precision: 0.2183 - val_recall: 0.2183\n",
      "Epoch 2/10\n",
      "9/9 [==============================] - 0s 41ms/step - loss: 3.2422 - accuracy: 0.2641 - precision: 0.2663 - recall: 0.2588 - val_loss: 1.8044 - val_accuracy: 0.5282 - val_precision: 0.5417 - val_recall: 0.1831\n",
      "Epoch 3/10\n",
      "9/9 [==============================] - 0s 42ms/step - loss: 1.3625 - accuracy: 0.5035 - precision: 0.5526 - recall: 0.3239 - val_loss: 1.3470 - val_accuracy: 0.6338 - val_precision: 0.8043 - val_recall: 0.5211\n",
      "Epoch 4/10\n",
      "9/9 [==============================] - 0s 47ms/step - loss: 0.9534 - accuracy: 0.6884 - precision: 0.8926 - recall: 0.5123 - val_loss: 0.9306 - val_accuracy: 0.6479 - val_precision: 0.7011 - val_recall: 0.4296\n",
      "Epoch 5/10\n",
      "9/9 [==============================] - 0s 41ms/step - loss: 0.6835 - accuracy: 0.7817 - precision: 0.8640 - recall: 0.6039 - val_loss: 0.6577 - val_accuracy: 0.8944 - val_precision: 0.9320 - val_recall: 0.6761\n",
      "Epoch 6/10\n",
      "9/9 [==============================] - 0s 41ms/step - loss: 0.4919 - accuracy: 0.9278 - precision: 0.9825 - recall: 0.7887 - val_loss: 0.5716 - val_accuracy: 0.9296 - val_precision: 0.9426 - val_recall: 0.8099\n",
      "Epoch 7/10\n",
      "9/9 [==============================] - 0s 40ms/step - loss: 0.4197 - accuracy: 0.9401 - precision: 0.9670 - recall: 0.8768 - val_loss: 0.5486 - val_accuracy: 0.8803 - val_precision: 0.9459 - val_recall: 0.7394\n",
      "Epoch 8/10\n",
      "9/9 [==============================] - 0s 41ms/step - loss: 0.3586 - accuracy: 0.9648 - precision: 0.9865 - recall: 0.9032 - val_loss: 0.4578 - val_accuracy: 0.9366 - val_precision: 0.9375 - val_recall: 0.8451\n",
      "Epoch 9/10\n",
      "9/9 [==============================] - 0s 40ms/step - loss: 0.2897 - accuracy: 0.9824 - precision: 0.9873 - recall: 0.9560 - val_loss: 0.4178 - val_accuracy: 0.9366 - val_precision: 0.9538 - val_recall: 0.8732\n",
      "Epoch 10/10\n",
      "9/9 [==============================] - 0s 40ms/step - loss: 0.2413 - accuracy: 0.9859 - precision: 0.9927 - recall: 0.9613 - val_loss: 0.3555 - val_accuracy: 0.9296 - val_precision: 0.9407 - val_recall: 0.8944\n"
     ]
    }
   ],
   "source": [
    "from tensorflow.keras.callbacks import EarlyStopping\n",
    "\n",
    "EPOCHS = 10\n",
    "early_stopping = EarlyStopping(monitor='val_loss', patience=EPOCHS//3, restore_best_weights=True)\n",
    "history = model.fit(X_train, y_train, epochs=EPOCHS, validation_data = (X_test, y_test), batch_size=64,callbacks=[early_stopping])"
   ]
  },
  {
   "cell_type": "code",
   "execution_count": 12,
   "metadata": {},
   "outputs": [
    {
     "data": {
      "image/png": "[encoded data removed]",
      "text/plain": [
       "<Figure size 640x480 with 2 Axes>"
      ]
     },
     "metadata": {},
     "output_type": "display_data"
    }
   ],
   "source": [
    "fig, ax = plt.subplots(2,1)\n",
    "ax[0].plot(history.history['loss'], color='b', label=\"Training Loss\")\n",
    "ax[0].plot(history.history['val_loss'], color='r', label=\"Validation Loss\",axes =ax[0])\n",
    "legend = ax[0].legend(loc='best', shadow=True)\n",
    "\n",
    "ax[1].plot(history.history['accuracy'], color='b', label=\"Training Accuracy\")\n",
    "ax[1].plot(history.history['val_accuracy'], color='r',label=\"Validation Accuracy\")\n",
    "legend = ax[1].legend(loc='best', shadow=True)"
   ]
  },
  {
   "cell_type": "code",
   "execution_count": 13,
   "metadata": {},
   "outputs": [
    {
     "name": "stdout",
     "output_type": "stream",
     "text": [
      "5/5 [==============================] - 0s 5ms/step - loss: 0.3555 - accuracy: 0.9296 - precision: 0.9407 - recall: 0.8944\n",
      "Test Accuracy : 92.96%\n"
     ]
    }
   ],
   "source": [
    "evaluation = model.evaluate(X_test, y_test)\n",
    "print(f'Test Accuracy : {evaluation[1] * 100:.2f}%')"
   ]
  },
  {
   "cell_type": "code",
   "execution_count": 14,
   "metadata": {},
   "outputs": [
    {
     "name": "stdout",
     "output_type": "stream",
     "text": [
      "5/5 [==============================] - 0s 3ms/step\n"
     ]
    },
    {
     "data": {
      "text/plain": [
       "<Axes: >"
      ]
     },
     "execution_count": 14,
     "metadata": {},
     "output_type": "execute_result"
    },
    {
     "data": {
      "image/png": "[encoded data removed]",
      "text/plain": [
       "<Figure size 1000x800 with 2 Axes>"
      ]
     },
     "metadata": {},
     "output_type": "display_data"
    }
   ],
   "source": [
    "# Predict the values from the testing dataset\n",
    "Y_pred = model.predict(X_test)\n",
    "# Convert predictions classes to one hot vectors\n",
    "Y_pred_classes = np.argmax(Y_pred,axis = 1)\n",
    "# Convert testing observations to one hot vectors\n",
    "Y_true = np.argmax(y_test,axis = 1)\n",
    "# compute the confusion matrix\n",
    "confusion_mtx = tf.math.confusion_matrix(Y_true, Y_pred_classes)\n",
    "\n",
    "plt.figure(figsize=(10, 8))\n",
    "sns.heatmap(confusion_mtx, annot=True, fmt='g')"
   ]
  },
  {
   "cell_type": "code",
   "execution_count": 15,
   "metadata": {},
   "outputs": [
    {
     "name": "stdout",
     "output_type": "stream",
     "text": [
      "              precision    recall  f1-score   support\n",
      "\n",
      "           0       1.00      0.77      0.87        31\n",
      "           1       1.00      1.00      1.00        28\n",
      "           2       0.83      1.00      0.91        34\n",
      "           3       0.96      0.88      0.92        25\n",
      "           4       0.92      1.00      0.96        24\n",
      "\n",
      "    accuracy                           0.93       142\n",
      "   macro avg       0.94      0.93      0.93       142\n",
      "weighted avg       0.94      0.93      0.93       142\n",
      "\n"
     ]
    }
   ],
   "source": [
    "from sklearn.metrics import classification_report\n",
    "print(classification_report(Y_true, Y_pred_classes))"
   ]
  },
  {
   "cell_type": "code",
   "execution_count": 16,
   "metadata": {},
   "outputs": [
    {
     "name": "stderr",
     "output_type": "stream",
     "text": [
      "/home/hassan/.local/lib/python3.8/site-packages/keras/src/engine/training.py:3000: UserWarning: You are saving your model as an HDF5 file via `model.save()`. This file format is considered legacy. We recommend using instead the native Keras format, e.g. `model.save('my_model.keras')`.\n",
      "  saving_api.save_model(\n"
     ]
    }
   ],
   "source": [
    "model.save('VGGish_model.h5')"
   ]
  },
  {
   "cell_type": "code",
   "execution_count": null,
   "metadata": {},
   "outputs": [],
   "source": []
  }
 ],
 "metadata": {
  "kernelspec": {
   "display_name": "Python 3",
   "language": "python",
   "name": "python3"
  },
  "language_info": {
   "codemirror_mode": {
    "name": "ipython",
    "version": 3
   },
   "file_extension": ".py",
   "mimetype": "text/x-python",
   "name": "python",
   "nbconvert_exporter": "python",
   "pygments_lexer": "ipython3",
   "version": "3.8.10"
  }
 },
 "nbformat": 4,
 "nbformat_minor": 2
}
